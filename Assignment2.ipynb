{
  "nbformat": 4,
  "nbformat_minor": 0,
  "metadata": {
    "colab": {
      "name": "Assignment2.ipynb",
      "version": "0.3.2",
      "provenance": [],
      "collapsed_sections": [],
      "include_colab_link": true
    },
    "kernelspec": {
      "display_name": "Python 3",
      "language": "python",
      "name": "python3"
    }
  },
  "cells": [
    {
      "cell_type": "markdown",
      "metadata": {
        "id": "view-in-github",
        "colab_type": "text"
      },
      "source": [
        "<a href=\"https://colab.research.google.com/github/bdubbs09/Data_in_Neuroscience/blob/master/Assignment2.ipynb\" target=\"_parent\"><img src=\"https://colab.research.google.com/assets/colab-badge.svg\" alt=\"Open In Colab\"/></a>"
      ]
    },
    {
      "metadata": {
        "id": "5imyPl14lyIT",
        "colab_type": "text"
      },
      "cell_type": "markdown",
      "source": [
        "# Pandas dataframe exercises using the sprinter reaction time dataset.  \n",
        "## Goal: Get familiar with basic dataframe operations"
      ]
    },
    {
      "metadata": {
        "id": "J46ymBn6lyIV",
        "colab_type": "text"
      },
      "cell_type": "markdown",
      "source": [
        "The code block below is a preamble that loads the libraries that we need and sets things up the way we like it.  You can copy and paste this preamble and put it in any notebook to have access to the same libraries."
      ]
    },
    {
      "metadata": {
        "id": "gbpK4q1JlyIX",
        "colab_type": "code",
        "colab": {}
      },
      "cell_type": "code",
      "source": [
        "# Tells the notebooks to view every graph \"in line\" automatically, rather than requiring a specific `show` command\n",
        "%matplotlib inline \n",
        "# Loads the numpy library (for math stuff)\n",
        "import numpy as np \n",
        "# Load the pandas library (what we use to create, explore, and analyze datasets)\n",
        "import pandas as pd \n",
        "# Loads the matplotlib library (what we use to create graphs)\n",
        "import matplotlib.pyplot as plt \n",
        "# Loads the seaborn library (what we use to create prettier graphs)\n",
        "import seaborn as sns \n",
        "# Sets the default font size for graphs to 150% of its original value (for readability)\n",
        "sns.set(font_scale=1.5) "
      ],
      "execution_count": 0,
      "outputs": []
    },
    {
      "metadata": {
        "id": "ytV1LlJBlyIc",
        "colab_type": "text"
      },
      "cell_type": "markdown",
      "source": [
        "#### First we load the original data into a Pandas dataframe called `df`"
      ]
    },
    {
      "metadata": {
        "id": "70U7BKhwlyId",
        "colab_type": "code",
        "colab": {}
      },
      "cell_type": "code",
      "source": [
        "url = \"https://raw.githubusercontent.com/rgerkin/neuro-data-analysis-course/master/data/spinal/2004-2016-Short-Races2.csv\"\n",
        "df = pd.read_csv(url) # Loads the data from that URL into a dataframe\n",
        "df.head() # Shows the first few rows of that dataframe"
      ],
      "execution_count": 0,
      "outputs": []
    },
    {
      "metadata": {
        "id": "u0aLGPdolyIi",
        "colab_type": "text"
      },
      "cell_type": "markdown",
      "source": [
        "#### Now complete the numbered tasks below.  Read the question, then use the code block to fill in your solution"
      ]
    },
    {
      "metadata": {
        "id": "YHs9kn5NlyIj",
        "colab_type": "text"
      },
      "cell_type": "markdown",
      "source": [
        "1) A method is just a function that belongs to an object (like a dataframe).  The `.head()` method is a good way to preview the data that you loaded.  Sometimes people work with datasets with thousands or even millions of rows.  You usually don't need to see them all at once!  But sometimes you want to see more than 5 rows.  Try passing an argument to `.head()`, in order to see more rows.  For example, `.head(10)` to see 10 rows.  Or pick some other number."
      ]
    },
    {
      "metadata": {
        "id": "1ShlKj3FlyIj",
        "colab_type": "code",
        "colab": {}
      },
      "cell_type": "code",
      "source": [
        "# Fill in your answer to 1 here\n",
        "df.head(15)"
      ],
      "execution_count": 0,
      "outputs": []
    },
    {
      "metadata": {
        "id": "YFhBSjvClyIm",
        "colab_type": "text"
      },
      "cell_type": "markdown",
      "source": [
        "2) You can also look at the *last* few rows of the data, using the `.tail()` method. Try viewing the last 12 rows of the dataset.  "
      ]
    },
    {
      "metadata": {
        "id": "35nejAY9lyIn",
        "colab_type": "code",
        "colab": {}
      },
      "cell_type": "code",
      "source": [
        "# Fill in your answer to 2 here\n",
        "df.tail(12)"
      ],
      "execution_count": 0,
      "outputs": []
    },
    {
      "metadata": {
        "id": "NesHy7KPlyIq",
        "colab_type": "text"
      },
      "cell_type": "markdown",
      "source": [
        "3) How much data do you have?  You can find how many rows and columns you have with the `.shape` attribute.  Note the lack of parentheses here.  Attributes differ from methods in that they don't actually do anything (like print out information, or make a plot), but you can access their value to get information about your data.  The `.shape` attribute reports the number of rows and columns of the dataframe.  How many columns does the dataframe have?  "
      ]
    },
    {
      "metadata": {
        "id": "1CBrK-JHlyIr",
        "colab_type": "code",
        "colab": {}
      },
      "cell_type": "code",
      "source": [
        "# Fill in your answer to 3 here\n",
        "df.shape"
      ],
      "execution_count": 0,
      "outputs": []
    },
    {
      "metadata": {
        "id": "W0UK9jvhlyIv",
        "colab_type": "text"
      },
      "cell_type": "markdown",
      "source": [
        "4) Sometimes you only care about one column in your dataframe.  You can access it be name.  For example, `df['ATHLETE']` will access the \"ATHLETE\" column.  Access the column for reaction time. "
      ]
    },
    {
      "metadata": {
        "id": "pYkBHAGMlyIx",
        "colab_type": "code",
        "colab": {}
      },
      "cell_type": "code",
      "source": [
        "# Fill in your answer to 4 here\n",
        "df['ATHLETE']"
      ],
      "execution_count": 0,
      "outputs": []
    },
    {
      "metadata": {
        "id": "oCnqv5TilyI0",
        "colab_type": "text"
      },
      "cell_type": "markdown",
      "source": [
        "5) Notice that the above doesn't look like a dataframe anymore.  That's because you've only accessed one column, so the two-dimensional dataset (rows x columns) is now only one-dimensional. One-dimensional data in Pandas is convered into a so-called \"Series\".  Many of the same methods that belong to dataframes also belong to a series, e.g. `.head()` or `.mean()`.  Find the median reaction time as you did in the earlier homework assignment, but operating directly on the series containing the reaction times.  "
      ]
    },
    {
      "metadata": {
        "id": "d7lgLsqolyI1",
        "colab_type": "code",
        "colab": {}
      },
      "cell_type": "code",
      "source": [
        "# Fill in your answer to 5 here\n",
        "df['RxnTime'].median()"
      ],
      "execution_count": 0,
      "outputs": []
    },
    {
      "metadata": {
        "id": "49xobny8lyI3",
        "colab_type": "text"
      },
      "cell_type": "markdown",
      "source": [
        "6) Sometimes you want to keep a dataframe, but just with fewer columns.  For example, only the name and reaction time.  You do this with an extra set of brackets, i.e. `df[['col1','col2']]` if you wanted to access hypothetical columns named 'col1' and 'col2'.  Try generating a dataframe that has only the name and reaction time columns from the original dataset.  "
      ]
    },
    {
      "metadata": {
        "id": "y93oikLYlyI4",
        "colab_type": "code",
        "colab": {}
      },
      "cell_type": "code",
      "source": [
        "# Fill in your answer to 6 here\n",
        "df[['ATHLETE','RxnTime']]"
      ],
      "execution_count": 0,
      "outputs": []
    },
    {
      "metadata": {
        "id": "-X1BDXQmlyI6",
        "colab_type": "text"
      },
      "cell_type": "markdown",
      "source": [
        "7) Columns have names ('ATHLETE', 'COUNTRY', etc.), but so do rows.  The row names are part of the so-called \"index\" of the dataframe (or series), and allow you to access data more intuitively than just by row number.  In this case though, the names in the index are the row numbers.  You can extract row 144 with `df.loc[144]`.  Note the use of the `.loc` attribute, and the brackets instead of parentheses.  Use this extract the row containing Usain Bolt's 2008 preliminary heats data (hint, it is at the beginning of the dataframe)."
      ]
    },
    {
      "metadata": {
        "id": "-Wo-X8FvlyI8",
        "colab_type": "code",
        "colab": {}
      },
      "cell_type": "code",
      "source": [
        "# Fill in your answer to 7 here\n",
        "df.loc[0]"
      ],
      "execution_count": 0,
      "outputs": []
    },
    {
      "metadata": {
        "id": "ofLz8akWlyI-",
        "colab_type": "text"
      },
      "cell_type": "markdown",
      "source": [
        "8) You can access specific cells of the dataframe by row and column using `.loc`, e.g. `df.loc[7,'Country']`.  You can also edit data the same way.  Maybe Usain Bolt's preliminary heats time was faster than reported, say 9.5 seconds?  Edit the dataframe with `.loc` to make that change.  Be sure to use the `=` sign or you won't actually make the change!"
      ]
    },
    {
      "metadata": {
        "id": "4KJPN7mrlyI_",
        "colab_type": "code",
        "colab": {}
      },
      "cell_type": "code",
      "source": [
        "# Fill in your answer to 8 here\n",
        "df.loc[0,['MARK']] = 9.54"
      ],
      "execution_count": 0,
      "outputs": []
    },
    {
      "metadata": {
        "id": "KEAZrsqnlyJB",
        "colab_type": "text"
      },
      "cell_type": "markdown",
      "source": [
        "9) I don't like the way this data is organized.  Accessing it by arbitrary row numbers is not intuitive at all.  Let's organize the data by athlete name and year instead, using the `set_index()` method.  Inside the parentheses, put a list containing the column name indicating athlete name and the column name indicating the year.  Don't forget quotes and brackets!  "
      ]
    },
    {
      "metadata": {
        "id": "aq3EF9NYlyJC",
        "colab_type": "code",
        "colab": {}
      },
      "cell_type": "code",
      "source": [
        "# Fill in your answer to 9 here\n",
        "df.set_index(['ATHLETE', 'Year'])"
      ],
      "execution_count": 0,
      "outputs": []
    },
    {
      "metadata": {
        "id": "hSx1zMoflyJH",
        "colab_type": "text"
      },
      "cell_type": "markdown",
      "source": [
        "10) That's OK, but it doesn't look much nicer.  Maybe if it the index was sorted?  If you've ever done a hierarchical sort in Excel, this will be similar.  Try the same command as above, but append `.sort_index()`  to it"
      ]
    },
    {
      "metadata": {
        "id": "DdfzFMA0lyJJ",
        "colab_type": "code",
        "colab": {}
      },
      "cell_type": "code",
      "source": [
        "# Fill in your answer to 10 here\n",
        "df.set_index(['ATHLETE', 'Year']).sort_index()"
      ],
      "execution_count": 0,
      "outputs": []
    },
    {
      "metadata": {
        "id": "J9yOqJeKlyJL",
        "colab_type": "text"
      },
      "cell_type": "markdown",
      "source": [
        "11) Display the dataframe again by entering `df` on an empty line (e.g. in the code cell below, or create a new code cell).  Does it reflect the changes you made above?  If not, it's because `.set_index()`, `.sort_index()` (and most other methods) only return modified copies of your data; they don't overwrite it.  If you want to work with that modified copy, set the original dataframe equal to it, i.e. `df = ...` where `...` would contain the command you used above.  "
      ]
    },
    {
      "metadata": {
        "id": "iKryxQOrlyJN",
        "colab_type": "code",
        "colab": {}
      },
      "cell_type": "code",
      "source": [
        "# Fill in your answer to 11 here\n",
        "df = df.set_index(['ATHLETE', 'Year']).sort_index()"
      ],
      "execution_count": 0,
      "outputs": []
    },
    {
      "metadata": {
        "id": "Sfz9_RyJlyJP",
        "colab_type": "text"
      },
      "cell_type": "markdown",
      "source": [
        "Now that `df` has been changed, some of the commands in the earlier questions won't work the same.  So you won't be able to access e.g. `df.loc[7]` anymore, because there is no longer a row named 7!  This is why you should always execute notebooks from top to bottom.  Each notebook cell can change the data in a way that a cell above it doesn't know about.  "
      ]
    },
    {
      "metadata": {
        "id": "YebpcvHplyJQ",
        "colab_type": "text"
      },
      "cell_type": "markdown",
      "source": [
        "12) But now we have an intuitive index for the data frame.  Instead of accessing something like `df.loc[7]` we can access by name and year (using the same `.loc` attribute).  First just try accessing Usain Bolt's data by name (note that his last name is all capital letters in this dataset).  Note that it will contain results from several races across several years.  "
      ]
    },
    {
      "metadata": {
        "id": "lU-2R1v1lyJR",
        "colab_type": "code",
        "colab": {}
      },
      "cell_type": "code",
      "source": [
        "# Fill in your answer to 12 here\n",
        "df.loc['Usain BOLT']"
      ],
      "execution_count": 0,
      "outputs": []
    },
    {
      "metadata": {
        "id": "BOkHcZqalyJT",
        "colab_type": "text"
      },
      "cell_type": "markdown",
      "source": [
        "13) You can further restrict the data to a single year by using the `.loc` attribute again (\"chaining\" operations together), and now including a specific year.  Access Usain Bolt's data for 2008.  Hint: it will look just like the answer above, but with an extra `.loc` appended on.  "
      ]
    },
    {
      "metadata": {
        "id": "UNLvjBl2lyJU",
        "colab_type": "code",
        "colab": {}
      },
      "cell_type": "code",
      "source": [
        "# Fill in your answer to 13 here\n",
        "df.loc[\"Usain BOLT\"].loc[2008]"
      ],
      "execution_count": 0,
      "outputs": []
    },
    {
      "metadata": {
        "id": "U0IVHtqclyJW",
        "colab_type": "text"
      },
      "cell_type": "markdown",
      "source": [
        "14) How fast does Usain Bolt react to the starting gun?  Find his minimum Olympic sprint reaction time by acessing his data using `.loc`, accessing reaction time by column name, and then computing the minimum.  Hint: the *maximum* is obtained with the `.max()` method.  "
      ]
    },
    {
      "metadata": {
        "id": "nB7zLv4qlyJW",
        "colab_type": "code",
        "colab": {}
      },
      "cell_type": "code",
      "source": [
        "# Fill in your answer to 14 here\n",
        "df[\"RxnTime\"].min()"
      ],
      "execution_count": 0,
      "outputs": []
    },
    {
      "metadata": {
        "id": "LJrMgmBPlyJa",
        "colab_type": "text"
      },
      "cell_type": "markdown",
      "source": [
        "15) Usain Bolt was the fastest 100m sprinter of all time, but he didn't try his hardest until the finals of each meet (he didn't need to).  Let's extract only his data from the finals.  This takes only one step, but we'll do it in two to make the idea clear.  First, let's generate a series that tells us whether it is True or False that a given race was a final.  Just paste `df['Round'] == 'Final'` in the cell below.  You will see a series containig some `True` values and some `False` values (mostly the latter), reflecting rows containing data from finals vs. other rounds.  Note the ellipsis halfway down, which represents all the data (hundreds of rows) it isn't showing you to save space.  "
      ]
    },
    {
      "metadata": {
        "id": "nxM_MNOllyJb",
        "colab_type": "code",
        "colab": {}
      },
      "cell_type": "code",
      "source": [
        "# Fill in your answer to 15 here\n",
        "df['Round'] == 'Final'"
      ],
      "execution_count": 0,
      "outputs": []
    },
    {
      "metadata": {
        "id": "V-nZU_AElyJe",
        "colab_type": "text"
      },
      "cell_type": "markdown",
      "source": [
        "16) The expression above can be used as a \"selector\", to select data from the dataframe which matches the desired condition (i.e. only races that were finals).  Place it inside brackets (i.e. inside `df[]`) to access only the races that were finals from the original data.  "
      ]
    },
    {
      "metadata": {
        "id": "Hv7xb6lulyJf",
        "colab_type": "code",
        "colab": {}
      },
      "cell_type": "code",
      "source": [
        "# Fill in your answer to 16 here\n",
        "df[df['Round'] == 'Final']"
      ],
      "execution_count": 0,
      "outputs": []
    },
    {
      "metadata": {
        "id": "-3gE_1DulyJh",
        "colab_type": "text"
      },
      "cell_type": "markdown",
      "source": [
        "17) Now use the above, plus chaining with `.loc[]` and `max()` to find Usain Bolt's *worst* reaction time in an Olympics final.   "
      ]
    },
    {
      "metadata": {
        "id": "DR0MeKDulyJh",
        "colab_type": "code",
        "colab": {}
      },
      "cell_type": "code",
      "source": [
        "# Fill in your answer to 17 here\n",
        "df[df['Round'] == 'Final'].loc[\"Usain BOLT\"].max()"
      ],
      "execution_count": 0,
      "outputs": []
    },
    {
      "metadata": {
        "id": "HJvPs0CQlyJj",
        "colab_type": "text"
      },
      "cell_type": "markdown",
      "source": [
        "18) Let's clean up this data a little bit more.  See all the `NaN` values above?  Those correspond to missing data (NaN stands for \"Not a Number\").  We can get rid of rows that have missing data with the `.dropna()` method.  But some missing data is irrelevant to our analysis.  Who cares if the bib number is missing?  Select only those columns we care about (let's say reaction time, round, and gender) using the approach from question 6, and then use `dropna()` on that subset of the columns.  Chain that with `.shape` to see how many rows the remaining data has.  It should be less than the number of rows we started with (because we removed some rows), but still well more than 0!"
      ]
    },
    {
      "metadata": {
        "id": "mXnGlUzGlyJk",
        "colab_type": "code",
        "outputId": "c7f3b42f-4b67-4a35-f8a1-6709ecaba9b1",
        "colab": {
          "base_uri": "https://localhost:8080/",
          "height": 34
        }
      },
      "cell_type": "code",
      "source": [
        "# Fill in your answer to 18 here\n",
        "df[[\"RxnTime\",\"Round\",\"Gender\"]].dropna().shape"
      ],
      "execution_count": 0,
      "outputs": [
        {
          "output_type": "execute_result",
          "data": {
            "text/plain": [
              "(2123, 3)"
            ]
          },
          "metadata": {
            "tags": []
          },
          "execution_count": 30
        }
      ]
    },
    {
      "metadata": {
        "id": "g0DLdYT9lyJm",
        "colab_type": "text"
      },
      "cell_type": "markdown",
      "source": [
        "19) Do Americans sprinters react faster than Canadian sprinters?  No one would ever fund such a study, but you can answer that question right here for free!  Use the `.groupby()` method to aggregate sprinters by country `.groupby('COUNTRY')`, select the reaction time column, and chain it with `.mean()` to compare mean reaction time across countries.  You can further optionally append `[['USAUSA','CANCAN']]` to focus on only those two countries.  Why are all the country names doubled?  I think it is because the person who compiled this dataset likes to say, \"U-S-A!  U-S-A!\" and just repeated that for every country.  "
      ]
    },
    {
      "metadata": {
        "id": "-RV62mezlyJo",
        "colab_type": "code",
        "outputId": "5564c665-4026-4708-e7fc-635a89b72ed2",
        "colab": {
          "base_uri": "https://localhost:8080/",
          "height": 85
        }
      },
      "cell_type": "code",
      "source": [
        "# Fill in your answer to 19 here\n",
        "df.groupby('COUNTRY')['RxnTime'].mean()[['USAUSA','CANCAN']]"
      ],
      "execution_count": 0,
      "outputs": [
        {
          "output_type": "execute_result",
          "data": {
            "text/plain": [
              "COUNTRY\n",
              "USAUSA    0.170185\n",
              "CANCAN    0.159889\n",
              "Name: RxnTime, dtype: float64"
            ]
          },
          "metadata": {
            "tags": []
          },
          "execution_count": 32
        }
      ]
    },
    {
      "metadata": {
        "id": "AFmPwZqHlyJr",
        "colab_type": "code",
        "colab": {}
      },
      "cell_type": "code",
      "source": [
        "# Be sure to run this code cell!\n",
        "from scipy.stats import ttest_ind"
      ],
      "execution_count": 0,
      "outputs": []
    },
    {
      "metadata": {
        "id": "DgUbTxH5lyJs",
        "colab_type": "text"
      },
      "cell_type": "markdown",
      "source": [
        "20) So *do* Americans react faster (or slower) than Canadians? In the previous question we only computed the means.  What about the variability?  Let's assume for the moment that a t-test is a good way to compare the two groups.  Extract the two groups using the data using the selector approach from question 16, extract the reaction time from each, drop the missing values, and assigning one to the variable `usa` and the other to the variable `can`.  Don't use `groupby()` here.  Having loaded a t-test function (`ttest_ind` in the cell above), call that function using your selected groups (`ttest_ind(usa,can)`).  Note that you can have multiple command in a code cell, as long each one is on its own line.  "
      ]
    },
    {
      "metadata": {
        "id": "xbZYr9AZlyJu",
        "colab_type": "code",
        "outputId": "2f60ae92-cd62-4701-f0c0-344f41b49a0b",
        "colab": {
          "base_uri": "https://localhost:8080/",
          "height": 34
        }
      },
      "cell_type": "code",
      "source": [
        "# Fill in your answer to 20 here\n",
        "usa = df[df['COUNTRY'] == 'USAUSA']\n",
        "usa = usa['RxnTime'].dropna()\n",
        "can = df[df['COUNTRY'] == 'CANCAN']\n",
        "can = can['RxnTime'].dropna()\n",
        "ttest_ind(usa,can)"
      ],
      "execution_count": 0,
      "outputs": [
        {
          "output_type": "execute_result",
          "data": {
            "text/plain": [
              "Ttest_indResult(statistic=2.627641765259621, pvalue=0.009140575516656623)"
            ]
          },
          "metadata": {
            "tags": []
          },
          "execution_count": 88
        }
      ]
    },
    {
      "metadata": {
        "id": "c22Ij1OOlyJw",
        "colab_type": "text"
      },
      "cell_type": "markdown",
      "source": [
        "21) Oh my, are we going to win a Nobel Prize for this discovery?  Or have we failed to control for something?  Maybe one country has more male vs female athletes, or more sprinters vs hurdlers.  Repeat the above, restricting the data to men (21a), then to women (21b), then to only 100 m sprinters (21c).  You can have multiple `==` expressions in your selector, but you should use parentheses to keep them separated e.g. `(df['COUNTRY']=='USA') & (df['Gender']=='F')`.  "
      ]
    },
    {
      "metadata": {
        "id": "U9EHtPzBlyJx",
        "colab_type": "code",
        "outputId": "c5cf11d1-3999-48ad-a100-d81711d09288",
        "colab": {
          "base_uri": "https://localhost:8080/",
          "height": 34
        }
      },
      "cell_type": "code",
      "source": [
        "# Fill in your answer to 21a here\n",
        "usa = df[(df['COUNTRY'] == 'USAUSA') & (df['Gender'] == 'M')]\n",
        "can = df[(df['COUNTRY'] == 'CANCAN') & (df['Gender'] == 'M')]\n",
        "usa = usa['RxnTime'].dropna()\n",
        "can = can['RxnTime'].dropna()\n",
        "ttest_ind(usa,can)"
      ],
      "execution_count": 0,
      "outputs": [
        {
          "output_type": "execute_result",
          "data": {
            "text/plain": [
              "Ttest_indResult(statistic=2.0779762126756274, pvalue=0.0397416990780365)"
            ]
          },
          "metadata": {
            "tags": []
          },
          "execution_count": 89
        }
      ]
    },
    {
      "metadata": {
        "id": "j72K3SJblyJz",
        "colab_type": "code",
        "outputId": "3c5e45c2-50b2-43cb-c7ac-16674d8bd85c",
        "colab": {
          "base_uri": "https://localhost:8080/",
          "height": 34
        }
      },
      "cell_type": "code",
      "source": [
        "# Fill in your answer to 21b here\n",
        "usa = df[(df['COUNTRY'] == 'USAUSA') & (df['Gender'] == 'F')]\n",
        "can = df[(df['COUNTRY'] == 'CANCAN') & (df['Gender'] == 'F')]\n",
        "usa = usa['RxnTime'].dropna()\n",
        "can = can['RxnTime'].dropna()\n",
        "ttest_ind(usa,can)"
      ],
      "execution_count": 0,
      "outputs": [
        {
          "output_type": "execute_result",
          "data": {
            "text/plain": [
              "Ttest_indResult(statistic=1.80019192856523, pvalue=0.074407006123811)"
            ]
          },
          "metadata": {
            "tags": []
          },
          "execution_count": 91
        }
      ]
    },
    {
      "metadata": {
        "id": "hkijSKr3lyJ2",
        "colab_type": "code",
        "outputId": "a7644751-9fc8-4e3b-c9ab-ccaa5be8d280",
        "colab": {
          "base_uri": "https://localhost:8080/",
          "height": 34
        }
      },
      "cell_type": "code",
      "source": [
        "# Fill in your answer to 21c here\n",
        "usa = df[(df['COUNTRY'] == 'USAUSA') & (df['Race'] == '100 m')]\n",
        "can = df[(df['COUNTRY'] == 'CANCAN') & (df['Race'] == '100 m')]\n",
        "usa = usa['RxnTime'].dropna()\n",
        "can = can['RxnTime'].dropna()\n",
        "ttest_ind(usa,can)"
      ],
      "execution_count": 0,
      "outputs": [
        {
          "output_type": "execute_result",
          "data": {
            "text/plain": [
              "Ttest_indResult(statistic=1.4573584046126689, pvalue=0.14754531648779756)"
            ]
          },
          "metadata": {
            "tags": []
          },
          "execution_count": 101
        }
      ]
    },
    {
      "metadata": {
        "id": "IavjQJSklyJ7",
        "colab_type": "text"
      },
      "cell_type": "markdown",
      "source": [
        "### Congratulations, you are now familiar with the basic of programmatic operations on structured data!"
      ]
    }
  ]
}