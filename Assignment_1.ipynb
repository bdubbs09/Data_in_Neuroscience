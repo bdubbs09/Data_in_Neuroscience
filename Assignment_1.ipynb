{
  "nbformat": 4,
  "nbformat_minor": 0,
  "metadata": {
    "colab": {
      "name": "Assignment_1.ipynb",
      "version": "0.3.2",
      "provenance": [],
      "include_colab_link": true
    },
    "kernelspec": {
      "name": "python3",
      "display_name": "Python 3"
    }
  },
  "cells": [
    {
      "cell_type": "markdown",
      "metadata": {
        "id": "view-in-github",
        "colab_type": "text"
      },
      "source": [
        "<a href=\"https://colab.research.google.com/github/bdubbs09/Data_in_Neuroscience/blob/master/Assignment_1.ipynb\" target=\"_parent\"><img src=\"https://colab.research.google.com/assets/colab-badge.svg\" alt=\"Open In Colab\"/></a>"
      ]
    },
    {
      "metadata": {
        "id": "q69UbFp06Ol6",
        "colab_type": "code",
        "outputId": "6d5fe658-5eaf-4e27-9727-58e9a1e71643",
        "colab": {
          "base_uri": "https://localhost:8080/",
          "height": 636
        }
      },
      "cell_type": "code",
      "source": [
        "import pandas as pd\n",
        "import numpy as np\n",
        "import seaborn as sns\n",
        "\n",
        "# Creating dataframe and looking at the initial statistics\n",
        "def basic_stats():\n",
        "  df =  pd.read_csv(\"https://raw.githubusercontent.com/rgerkin/PythonDataScienceHandbook/master/notebooks/data/ans4.csv\")\n",
        "  df = df[df['dataset'] == 'IV']\n",
        "  sns.heatmap(df.corr(), cmap='BuGn')\n",
        "  print(df.corr())\n",
        "  print(df.describe())\n",
        "  print(df.median())\n",
        "  return\n",
        "\n",
        "basic_stats()\n",
        "\n",
        "# Remember to save to Github\n",
        "# median and std dev and correlation"
      ],
      "execution_count": 41,
      "outputs": [
        {
          "output_type": "stream",
          "text": [
            "          id         x         y\n",
            "id  1.000000  0.200000  0.115819\n",
            "x   0.200000  1.000000  0.816521\n",
            "y   0.115819  0.816521  1.000000\n",
            "              id          x          y\n",
            "count  11.000000  11.000000  11.000000\n",
            "mean    5.000000   9.000000   7.500909\n",
            "std     3.316625   3.316625   2.030579\n",
            "min     0.000000   8.000000   5.250000\n",
            "25%     2.500000   8.000000   6.170000\n",
            "50%     5.000000   8.000000   7.040000\n",
            "75%     7.500000   8.000000   8.190000\n",
            "max    10.000000  19.000000  12.500000\n",
            "id    5.00\n",
            "x     8.00\n",
            "y     7.04\n",
            "dtype: float64\n"
          ],
          "name": "stdout"
        },
        {
          "output_type": "display_data",
          "data": {
            "image/png": "[encoded data removed]",
            "text/plain": [
              "<matplotlib.figure.Figure at 0x7fc7d27614e0>"
            ]
          },
          "metadata": {
            "tags": []
          }
        }
      ]
    }
  ]
}